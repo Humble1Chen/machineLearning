{
 "cells": [
  {
   "cell_type": "code",
   "execution_count": null,
   "metadata": {},
   "outputs": [],
   "source": [
    "#**\n",
    "#* @file linearImplementation.ipynb\n",
    "#* @author chenyunan (nan1ayom@gmail.com)\n",
    "#* @brief\n",
    "#* @version 0.1\n",
    "#* @date 2022-09-30\n",
    "#*\n",
    "#* @copyright Copyright (c) 2022 汇智Tech\n",
    "#*\n",
    "#*\n",
    "import torch\n",
    "from d2l import torch as d2l\n",
    "\n",
    "#defeining the model\n",
    "class linearRegression(d2l.Module):\n",
    "    def __init__(self, plot_train_per_epoch=2, plot_valid_per_epoch=1):\n",
    "        super().__init__(plot_train_per_epoch, plot_valid_per_epoch)\n",
    "        self.save_hyperparameters()\n",
    "        "
   ]
  }
 ],
 "metadata": {
  "kernelspec": {
   "display_name": "Python 3.8.13 ('cyn')",
   "language": "python",
   "name": "python3"
  },
  "language_info": {
   "name": "python",
   "version": "3.8.13"
  },
  "orig_nbformat": 4,
  "vscode": {
   "interpreter": {
    "hash": "0088c4fbfcdec9e27cf4873d4f87eb5be116600fc139e527c54049f861d3c201"
   }
  }
 },
 "nbformat": 4,
 "nbformat_minor": 2
}
