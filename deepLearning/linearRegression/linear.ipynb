{
 "cells": [
  {
   "cell_type": "code",
   "execution_count": 62,
   "id": "9f400360-c2c6-473e-91ca-2dd46b53cb9b",
   "metadata": {},
   "outputs": [
    {
     "name": "stderr",
     "output_type": "stream",
     "text": [
      "/var/folders/lj/fsmryzz539v_494ykqjb3qzr0000gn/T/ipykernel_3494/2595022821.py:1: DeprecationWarning: the imp module is deprecated in favour of importlib and slated for removal in Python 3.12; see the module's documentation for alternative uses\n",
      "  import imp\n"
     ]
    },
    {
     "ename": "ValueError",
     "evalue": "numpy.ndarray size changed, may indicate binary incompatibility. Expected 96 from C header, got 88 from PyObject",
     "output_type": "error",
     "traceback": [
      "\u001b[0;31m---------------------------------------------------------------------------\u001b[0m",
      "\u001b[0;31mValueError\u001b[0m                                Traceback (most recent call last)",
      "\u001b[1;32m/Users/apple/Documents/deepLearning/linearRegression/linear.ipynb Cell 1\u001b[0m in \u001b[0;36m<cell line: 7>\u001b[0;34m()\u001b[0m\n\u001b[1;32m      <a href='vscode-notebook-cell:/Users/apple/Documents/deepLearning/linearRegression/linear.ipynb#W5sZmlsZQ%3D%3D?line=4'>5</a>\u001b[0m \u001b[39mimport\u001b[39;00m \u001b[39mnumpy\u001b[39;00m \u001b[39mas\u001b[39;00m \u001b[39mnp\u001b[39;00m\n\u001b[1;32m      <a href='vscode-notebook-cell:/Users/apple/Documents/deepLearning/linearRegression/linear.ipynb#W5sZmlsZQ%3D%3D?line=5'>6</a>\u001b[0m \u001b[39mimport\u001b[39;00m \u001b[39mmatplotlib\u001b[39;00m\u001b[39m.\u001b[39;00m\u001b[39mpyplot\u001b[39;00m \u001b[39mas\u001b[39;00m \u001b[39mplt\u001b[39;00m\n\u001b[0;32m----> <a href='vscode-notebook-cell:/Users/apple/Documents/deepLearning/linearRegression/linear.ipynb#W5sZmlsZQ%3D%3D?line=6'>7</a>\u001b[0m \u001b[39mfrom\u001b[39;00m \u001b[39md2l\u001b[39;00m \u001b[39mimport\u001b[39;00m torch \u001b[39mas\u001b[39;00m d2l\n",
      "File \u001b[0;32m~/opt/anaconda3/envs/test2/lib/python3.10/site-packages/d2l/torch.py:32\u001b[0m, in \u001b[0;36m<module>\u001b[0;34m\u001b[0m\n\u001b[1;32m     30\u001b[0m \u001b[39mimport\u001b[39;00m \u001b[39mzipfile\u001b[39;00m\n\u001b[1;32m     31\u001b[0m \u001b[39mfrom\u001b[39;00m \u001b[39mcollections\u001b[39;00m \u001b[39mimport\u001b[39;00m defaultdict\n\u001b[0;32m---> 32\u001b[0m \u001b[39mimport\u001b[39;00m \u001b[39mpandas\u001b[39;00m \u001b[39mas\u001b[39;00m \u001b[39mpd\u001b[39;00m\n\u001b[1;32m     33\u001b[0m \u001b[39mimport\u001b[39;00m \u001b[39mrequests\u001b[39;00m\n\u001b[1;32m     34\u001b[0m \u001b[39mfrom\u001b[39;00m \u001b[39mIPython\u001b[39;00m \u001b[39mimport\u001b[39;00m display\n",
      "File \u001b[0;32m~/opt/anaconda3/envs/test2/lib/python3.10/site-packages/pandas/__init__.py:29\u001b[0m, in \u001b[0;36m<module>\u001b[0;34m\u001b[0m\n\u001b[1;32m     22\u001b[0m \u001b[39mfrom\u001b[39;00m \u001b[39mpandas\u001b[39;00m\u001b[39m.\u001b[39;00m\u001b[39mcompat\u001b[39;00m\u001b[39m.\u001b[39;00m\u001b[39mnumpy\u001b[39;00m \u001b[39mimport\u001b[39;00m (\n\u001b[1;32m     23\u001b[0m     np_version_under1p17 \u001b[39mas\u001b[39;00m _np_version_under1p17,\n\u001b[1;32m     24\u001b[0m     np_version_under1p18 \u001b[39mas\u001b[39;00m _np_version_under1p18,\n\u001b[1;32m     25\u001b[0m     is_numpy_dev \u001b[39mas\u001b[39;00m _is_numpy_dev,\n\u001b[1;32m     26\u001b[0m )\n\u001b[1;32m     28\u001b[0m \u001b[39mtry\u001b[39;00m:\n\u001b[0;32m---> 29\u001b[0m     \u001b[39mfrom\u001b[39;00m \u001b[39mpandas\u001b[39;00m\u001b[39m.\u001b[39;00m\u001b[39m_libs\u001b[39;00m \u001b[39mimport\u001b[39;00m hashtable \u001b[39mas\u001b[39;00m _hashtable, lib \u001b[39mas\u001b[39;00m _lib, tslib \u001b[39mas\u001b[39;00m _tslib\n\u001b[1;32m     30\u001b[0m \u001b[39mexcept\u001b[39;00m \u001b[39mImportError\u001b[39;00m \u001b[39mas\u001b[39;00m e:  \u001b[39m# pragma: no cover\u001b[39;00m\n\u001b[1;32m     31\u001b[0m     \u001b[39m# hack but overkill to use re\u001b[39;00m\n\u001b[1;32m     32\u001b[0m     module \u001b[39m=\u001b[39m \u001b[39mstr\u001b[39m(e)\u001b[39m.\u001b[39mreplace(\u001b[39m\"\u001b[39m\u001b[39mcannot import name \u001b[39m\u001b[39m\"\u001b[39m, \u001b[39m\"\u001b[39m\u001b[39m\"\u001b[39m)\n",
      "File \u001b[0;32m~/opt/anaconda3/envs/test2/lib/python3.10/site-packages/pandas/_libs/__init__.py:13\u001b[0m, in \u001b[0;36m<module>\u001b[0;34m\u001b[0m\n\u001b[1;32m      1\u001b[0m __all__ \u001b[39m=\u001b[39m [\n\u001b[1;32m      2\u001b[0m     \u001b[39m\"\u001b[39m\u001b[39mNaT\u001b[39m\u001b[39m\"\u001b[39m,\n\u001b[1;32m      3\u001b[0m     \u001b[39m\"\u001b[39m\u001b[39mNaTType\u001b[39m\u001b[39m\"\u001b[39m,\n\u001b[0;32m   (...)\u001b[0m\n\u001b[1;32m      9\u001b[0m     \u001b[39m\"\u001b[39m\u001b[39mInterval\u001b[39m\u001b[39m\"\u001b[39m,\n\u001b[1;32m     10\u001b[0m ]\n\u001b[0;32m---> 13\u001b[0m \u001b[39mfrom\u001b[39;00m \u001b[39mpandas\u001b[39;00m\u001b[39m.\u001b[39;00m\u001b[39m_libs\u001b[39;00m\u001b[39m.\u001b[39;00m\u001b[39minterval\u001b[39;00m \u001b[39mimport\u001b[39;00m Interval\n\u001b[1;32m     14\u001b[0m \u001b[39mfrom\u001b[39;00m \u001b[39mpandas\u001b[39;00m\u001b[39m.\u001b[39;00m\u001b[39m_libs\u001b[39;00m\u001b[39m.\u001b[39;00m\u001b[39mtslibs\u001b[39;00m \u001b[39mimport\u001b[39;00m (\n\u001b[1;32m     15\u001b[0m     NaT,\n\u001b[1;32m     16\u001b[0m     NaTType,\n\u001b[0;32m   (...)\u001b[0m\n\u001b[1;32m     21\u001b[0m     iNaT,\n\u001b[1;32m     22\u001b[0m )\n",
      "File \u001b[0;32mpandas/_libs/interval.pyx:1\u001b[0m, in \u001b[0;36minit pandas._libs.interval\u001b[0;34m()\u001b[0m\n",
      "\u001b[0;31mValueError\u001b[0m: numpy.ndarray size changed, may indicate binary incompatibility. Expected 96 from C header, got 88 from PyObject"
     ]
    }
   ],
   "source": [
    "import imp\n",
    "import torch\n",
    "import time\n",
    "import math\n",
    "import numpy as np\n",
    "import matplotlib.pyplot as plt\n",
    "# from d2l import torch as d2l"
   ]
  },
  {
   "cell_type": "code",
   "execution_count": 53,
   "id": "f16620c4",
   "metadata": {},
   "outputs": [],
   "source": [
    "ERRORCODE = {\n",
    "    \"0\" : \"SUCCESS\",\n",
    "    \"1\" : \"FAILED\"\n",
    "}"
   ]
  },
  {
   "cell_type": "code",
   "execution_count": 54,
   "id": "cefe8924-4fbc-4aeb-a524-7c2c8ba6410f",
   "metadata": {},
   "outputs": [],
   "source": [
    "n = 10000\n",
    "a = torch.ones(n)\n",
    "b = torch.ones(n)"
   ]
  },
  {
   "cell_type": "code",
   "execution_count": 55,
   "id": "f3db4cb7-8e2d-42cf-9be7-512cfeaa0e37",
   "metadata": {},
   "outputs": [
    {
     "data": {
      "text/plain": [
       "'0.06707 '"
      ]
     },
     "execution_count": 55,
     "metadata": {},
     "output_type": "execute_result"
    }
   ],
   "source": [
    "c = torch.ones(n)\n",
    "t = time.time()\n",
    "for i in range(n):\n",
    "    c[i] = a[i] + b[i]\n",
    "f'{time.time() - t:.5f} '"
   ]
  },
  {
   "cell_type": "code",
   "execution_count": 56,
   "id": "8ee4c572-e8fa-4eba-9ffd-52d5c1ce1c72",
   "metadata": {},
   "outputs": [],
   "source": [
    "def normal(x, u , sigma):\n",
    "    left_ = 1 / math.sqrt(2 * math.pi * math.pow(sigma,2))\n",
    "    right_ = -(1/(2 * math.pow(sigma,2) * math,pow((x - u),2)))\n",
    "    return left_ * right_"
   ]
  },
  {
   "cell_type": "code",
   "execution_count": 57,
   "id": "e0c0f17c",
   "metadata": {},
   "outputs": [],
   "source": [
    "data_ = np.arange(-7,7,1)"
   ]
  },
  {
   "cell_type": "code",
   "execution_count": 61,
   "id": "ac1144b5",
   "metadata": {},
   "outputs": [
    {
     "ename": "TypeError",
     "evalue": "unsupported operand type(s) for *: 'float' and 'module'",
     "output_type": "error",
     "traceback": [
      "\u001b[0;31m---------------------------------------------------------------------------\u001b[0m",
      "\u001b[0;31mTypeError\u001b[0m                                 Traceback (most recent call last)",
      "\u001b[1;32m/Users/apple/Documents/deepLearning/linearRegression/linear.ipynb Cell 7\u001b[0m in \u001b[0;36m<cell line: 2>\u001b[0;34m()\u001b[0m\n\u001b[1;32m      <a href='vscode-notebook-cell:/Users/apple/Documents/deepLearning/linearRegression/linear.ipynb#X12sZmlsZQ%3D%3D?line=0'>1</a>\u001b[0m params_ \u001b[39m=\u001b[39m [(\u001b[39m0\u001b[39m, \u001b[39m1\u001b[39m), (\u001b[39m0\u001b[39m, \u001b[39m2\u001b[39m), (\u001b[39m3\u001b[39m, \u001b[39m1\u001b[39m)]\n\u001b[0;32m----> <a href='vscode-notebook-cell:/Users/apple/Documents/deepLearning/linearRegression/linear.ipynb#X12sZmlsZQ%3D%3D?line=1'>2</a>\u001b[0m plt\u001b[39m.\u001b[39mplot([normal(data_,mu,sigma) \u001b[39mfor\u001b[39;00m mu,sigma \u001b[39min\u001b[39;00m params_])\n",
      "\u001b[1;32m/Users/apple/Documents/deepLearning/linearRegression/linear.ipynb Cell 7\u001b[0m in \u001b[0;36m<listcomp>\u001b[0;34m(.0)\u001b[0m\n\u001b[1;32m      <a href='vscode-notebook-cell:/Users/apple/Documents/deepLearning/linearRegression/linear.ipynb#X12sZmlsZQ%3D%3D?line=0'>1</a>\u001b[0m params_ \u001b[39m=\u001b[39m [(\u001b[39m0\u001b[39m, \u001b[39m1\u001b[39m), (\u001b[39m0\u001b[39m, \u001b[39m2\u001b[39m), (\u001b[39m3\u001b[39m, \u001b[39m1\u001b[39m)]\n\u001b[0;32m----> <a href='vscode-notebook-cell:/Users/apple/Documents/deepLearning/linearRegression/linear.ipynb#X12sZmlsZQ%3D%3D?line=1'>2</a>\u001b[0m plt\u001b[39m.\u001b[39mplot([normal(data_,mu,sigma) \u001b[39mfor\u001b[39;00m mu,sigma \u001b[39min\u001b[39;00m params_])\n",
      "\u001b[1;32m/Users/apple/Documents/deepLearning/linearRegression/linear.ipynb Cell 7\u001b[0m in \u001b[0;36mnormal\u001b[0;34m(x, u, sigma)\u001b[0m\n\u001b[1;32m      <a href='vscode-notebook-cell:/Users/apple/Documents/deepLearning/linearRegression/linear.ipynb#X12sZmlsZQ%3D%3D?line=0'>1</a>\u001b[0m \u001b[39mdef\u001b[39;00m \u001b[39mnormal\u001b[39m(x, u , sigma):\n\u001b[1;32m      <a href='vscode-notebook-cell:/Users/apple/Documents/deepLearning/linearRegression/linear.ipynb#X12sZmlsZQ%3D%3D?line=1'>2</a>\u001b[0m     left_ \u001b[39m=\u001b[39m \u001b[39m1\u001b[39m \u001b[39m/\u001b[39m math\u001b[39m.\u001b[39msqrt(\u001b[39m2\u001b[39m \u001b[39m*\u001b[39m math\u001b[39m.\u001b[39mpi \u001b[39m*\u001b[39m math\u001b[39m.\u001b[39mpow(sigma,\u001b[39m2\u001b[39m))\n\u001b[0;32m----> <a href='vscode-notebook-cell:/Users/apple/Documents/deepLearning/linearRegression/linear.ipynb#X12sZmlsZQ%3D%3D?line=2'>3</a>\u001b[0m     right_ \u001b[39m=\u001b[39m \u001b[39m-\u001b[39m(\u001b[39m1\u001b[39m\u001b[39m/\u001b[39m(\u001b[39m2\u001b[39;49m \u001b[39m*\u001b[39;49m math\u001b[39m.\u001b[39;49mpow(sigma,\u001b[39m2\u001b[39;49m) \u001b[39m*\u001b[39;49m math,\u001b[39mpow\u001b[39m((x \u001b[39m-\u001b[39m u),\u001b[39m2\u001b[39m)))\n\u001b[1;32m      <a href='vscode-notebook-cell:/Users/apple/Documents/deepLearning/linearRegression/linear.ipynb#X12sZmlsZQ%3D%3D?line=3'>4</a>\u001b[0m     \u001b[39mreturn\u001b[39;00m left_ \u001b[39m*\u001b[39m right_\n",
      "\u001b[0;31mTypeError\u001b[0m: unsupported operand type(s) for *: 'float' and 'module'"
     ]
    }
   ],
   "source": [
    "params_ = [(0, 1), (0, 2), (3, 1)]\n",
    "plt.plot([normal(data_,mu,sigma) for mu,sigma in params_])\n"
   ]
  }
 ],
 "metadata": {
  "kernelspec": {
   "display_name": "Python 3.10.4 ('test2')",
   "language": "python",
   "name": "python3"
  },
  "language_info": {
   "codemirror_mode": {
    "name": "ipython",
    "version": 3
   },
   "file_extension": ".py",
   "mimetype": "text/x-python",
   "name": "python",
   "nbconvert_exporter": "python",
   "pygments_lexer": "ipython3",
   "version": "3.10.4"
  },
  "vscode": {
   "interpreter": {
    "hash": "ef23803da9a10c4dc91843c6e2cba3aa42e5dcac068bd6c1be21a76bc465e462"
   }
  }
 },
 "nbformat": 4,
 "nbformat_minor": 5
}
