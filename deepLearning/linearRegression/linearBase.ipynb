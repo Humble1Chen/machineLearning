{
 "cells": [
  {
   "cell_type": "code",
   "execution_count": 1,
   "id": "9f400360-c2c6-473e-91ca-2dd46b53cb9b",
   "metadata": {},
   "outputs": [
    {
     "name": "stderr",
     "output_type": "stream",
     "text": [
      "C:\\Users\\admin\\AppData\\Local\\Temp\\ipykernel_14040\\2774015405.py:1: DeprecationWarning: the imp module is deprecated in favour of importlib; see the module's documentation for alternative uses\n",
      "  import imp\n"
     ]
    }
   ],
   "source": [
    "import imp\n",
    "import torch\n",
    "import time\n",
    "import math\n",
    "import numpy as np\n",
    "import matplotlib.pyplot as plt\n",
    "# from d2l import torch as d2l"
   ]
  },
  {
   "cell_type": "code",
   "execution_count": 2,
   "id": "f16620c4",
   "metadata": {},
   "outputs": [],
   "source": [
    "ERRORCODE = {\n",
    "    \"0\" : \"SUCCESS\",\n",
    "    \"1\" : \"FAILED\"\n",
    "}"
   ]
  },
  {
   "cell_type": "code",
   "execution_count": 3,
   "id": "cefe8924-4fbc-4aeb-a524-7c2c8ba6410f",
   "metadata": {},
   "outputs": [],
   "source": [
    "n = 10000\n",
    "a = torch.ones(n)\n",
    "b = torch.ones(n)"
   ]
  },
  {
   "cell_type": "code",
   "execution_count": 4,
   "id": "f3db4cb7-8e2d-42cf-9be7-512cfeaa0e37",
   "metadata": {},
   "outputs": [
    {
     "data": {
      "text/plain": [
       "'0.04884 '"
      ]
     },
     "execution_count": 4,
     "metadata": {},
     "output_type": "execute_result"
    }
   ],
   "source": [
    "c = torch.ones(n)\n",
    "t = time.time()\n",
    "for i in range(n):\n",
    "    c[i] = a[i] + b[i]\n",
    "f'{time.time() - t:.5f} '"
   ]
  },
  {
   "cell_type": "code",
   "execution_count": 5,
   "id": "8ee4c572-e8fa-4eba-9ffd-52d5c1ce1c72",
   "metadata": {},
   "outputs": [],
   "source": [
    "def normal(x, u , sigma):\n",
    "    left_ = 1 / math.sqrt(2 * math.pi * math.pow(sigma,2))\n",
    "    right_ = -(1/(2 * math.pow(sigma,2) * math,pow((x - u),2)))\n",
    "    return left_ * right_"
   ]
  },
  {
   "cell_type": "code",
   "execution_count": 6,
   "id": "e0c0f17c",
   "metadata": {},
   "outputs": [],
   "source": [
    "data_ = np.arange(-7,7,1)"
   ]
  }
 ],
 "metadata": {
  "kernelspec": {
   "display_name": "Python 3.8.13 ('cyn')",
   "language": "python",
   "name": "python3"
  },
  "language_info": {
   "codemirror_mode": {
    "name": "ipython",
    "version": 3
   },
   "file_extension": ".py",
   "mimetype": "text/x-python",
   "name": "python",
   "nbconvert_exporter": "python",
   "pygments_lexer": "ipython3",
   "version": "3.8.13"
  },
  "vscode": {
   "interpreter": {
    "hash": "0088c4fbfcdec9e27cf4873d4f87eb5be116600fc139e527c54049f861d3c201"
   }
  }
 },
 "nbformat": 4,
 "nbformat_minor": 5
}
