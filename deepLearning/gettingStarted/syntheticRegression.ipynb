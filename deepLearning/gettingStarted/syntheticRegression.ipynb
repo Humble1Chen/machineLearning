{
 "cells": [
  {
   "cell_type": "code",
   "execution_count": 1,
   "metadata": {},
   "outputs": [
    {
     "name": "stdout",
     "output_type": "stream",
     "text": [
      "features: tensor([-1.0853,  1.2436]) \n",
      "label: tensor([-2.1957])\n"
     ]
    }
   ],
   "source": [
    "import random\n",
    "import torch\n",
    "from d2l import torch as d2l\n",
    "\n",
    "#Generating dataset\n",
    "class syntheticRegressionData(d2l.DataModule):\n",
    "    def __init__(self, w ,b , noise = 0.01, num_train =1000 ,num_val=1000,\n",
    "                batch_size=32):\n",
    "        super().__init__()\n",
    "        self.save_hyperparameters()\n",
    "        num = num_train + num_val\n",
    "        self.X = torch.randn(num, len(w))\n",
    "        noise = torch.randn(num, 1) * noise\n",
    "        self.y = torch.matmul(self.X, w.reshape((-1, 1))) + b + noise\n",
    "\n",
    "data = syntheticRegressionData(w = torch.tensor([2,-3.4]), b=4.2)\n",
    "print('features:', data.X[0], '\\nlabel:',data.y[0])"
   ]
  }
 ],
 "metadata": {
  "kernelspec": {
   "display_name": "Python 3.10.4 ('test2')",
   "language": "python",
   "name": "python3"
  },
  "language_info": {
   "codemirror_mode": {
    "name": "ipython",
    "version": 3
   },
   "file_extension": ".py",
   "mimetype": "text/x-python",
   "name": "python",
   "nbconvert_exporter": "python",
   "pygments_lexer": "ipython3",
   "version": "3.8.5"
  },
  "orig_nbformat": 4,
  "vscode": {
   "interpreter": {
    "hash": "ef23803da9a10c4dc91843c6e2cba3aa42e5dcac068bd6c1be21a76bc465e462"
   }
  }
 },
 "nbformat": 4,
 "nbformat_minor": 2
}
